{
 "cells": [
  {
   "cell_type": "code",
   "execution_count": 54,
   "id": "2f24b4ed",
   "metadata": {},
   "outputs": [],
   "source": [
    "import numpy as np\n",
    "import pandas as pd\n",
    "import matplotlib.pyplot as plt\n",
    "%matplotlib inline\n",
    "import seaborn as sns\n",
    "from sklearn.preprocessing import StandardScaler\n",
    "from sklearn.preprocessing import quantile_transform\n",
    "from sklearn.preprocessing import minmax_scale\n",
    "from sklearn.preprocessing import OneHotEncoder  ##. better to use dummy from pandas \n",
    "from sklearn.preprocessing import PowerTransformer\n",
    "from scipy.stats import boxcox\n",
    "from sklearn.linear_model import LinearRegression\n",
    "from sklearn.model_selection import train_test_split\n",
    "import statsmodels.api as sm\n",
    "from scipy.stats import boxcox\n",
    "from sklearn.metrics import r2_score\n",
    "from sklearn.metrics import mean_squared_error as mse\n",
    "from sklearn.metrics import mean_absolute_error as mae\n",
    "pd.options.display.max_rows = 50"
   ]
  },
  {
   "cell_type": "code",
   "execution_count": 55,
   "id": "fea0cf06",
   "metadata": {},
   "outputs": [
    {
     "data": {
      "text/html": [
       "<div>\n",
       "<style scoped>\n",
       "    .dataframe tbody tr th:only-of-type {\n",
       "        vertical-align: middle;\n",
       "    }\n",
       "\n",
       "    .dataframe tbody tr th {\n",
       "        vertical-align: top;\n",
       "    }\n",
       "\n",
       "    .dataframe thead th {\n",
       "        text-align: right;\n",
       "    }\n",
       "</style>\n",
       "<table border=\"1\" class=\"dataframe\">\n",
       "  <thead>\n",
       "    <tr style=\"text-align: right;\">\n",
       "      <th></th>\n",
       "      <th>region</th>\n",
       "      <th>customer_lifetime_value</th>\n",
       "      <th>response</th>\n",
       "      <th>coverage</th>\n",
       "      <th>education</th>\n",
       "      <th>effective_to_date</th>\n",
       "      <th>month</th>\n",
       "      <th>employment_status</th>\n",
       "      <th>gender</th>\n",
       "      <th>income</th>\n",
       "      <th>...</th>\n",
       "      <th>months_since_policy_inception</th>\n",
       "      <th>number_of_open_complaints</th>\n",
       "      <th>number_of_policies</th>\n",
       "      <th>policy_type</th>\n",
       "      <th>policy</th>\n",
       "      <th>renew_offer_type</th>\n",
       "      <th>sales_channel</th>\n",
       "      <th>total_claim_amount</th>\n",
       "      <th>vehicle_class</th>\n",
       "      <th>vehicle_size</th>\n",
       "    </tr>\n",
       "  </thead>\n",
       "  <tbody>\n",
       "    <tr>\n",
       "      <th>0</th>\n",
       "      <td>central</td>\n",
       "      <td>4809</td>\n",
       "      <td>no</td>\n",
       "      <td>basic</td>\n",
       "      <td>college</td>\n",
       "      <td>2/18/11</td>\n",
       "      <td>feb</td>\n",
       "      <td>employed</td>\n",
       "      <td>m</td>\n",
       "      <td>48029</td>\n",
       "      <td>...</td>\n",
       "      <td>52</td>\n",
       "      <td>0</td>\n",
       "      <td>9</td>\n",
       "      <td>corporate auto</td>\n",
       "      <td>corporate l3</td>\n",
       "      <td>offer3</td>\n",
       "      <td>agent</td>\n",
       "      <td>292</td>\n",
       "      <td>four-door car</td>\n",
       "      <td>medsize</td>\n",
       "    </tr>\n",
       "    <tr>\n",
       "      <th>1</th>\n",
       "      <td>west region</td>\n",
       "      <td>2228</td>\n",
       "      <td>no</td>\n",
       "      <td>basic</td>\n",
       "      <td>college</td>\n",
       "      <td>1/18/11</td>\n",
       "      <td>jan</td>\n",
       "      <td>unemployed</td>\n",
       "      <td>f</td>\n",
       "      <td>92260</td>\n",
       "      <td>...</td>\n",
       "      <td>26</td>\n",
       "      <td>0</td>\n",
       "      <td>1</td>\n",
       "      <td>personal auto</td>\n",
       "      <td>personal l3</td>\n",
       "      <td>offer4</td>\n",
       "      <td>call center</td>\n",
       "      <td>744</td>\n",
       "      <td>four-door car</td>\n",
       "      <td>medsize</td>\n",
       "    </tr>\n",
       "    <tr>\n",
       "      <th>2</th>\n",
       "      <td>east</td>\n",
       "      <td>14947</td>\n",
       "      <td>no</td>\n",
       "      <td>basic</td>\n",
       "      <td>bachelor</td>\n",
       "      <td>2/10/11</td>\n",
       "      <td>feb</td>\n",
       "      <td>employed</td>\n",
       "      <td>m</td>\n",
       "      <td>22139</td>\n",
       "      <td>...</td>\n",
       "      <td>31</td>\n",
       "      <td>0</td>\n",
       "      <td>2</td>\n",
       "      <td>personal auto</td>\n",
       "      <td>personal l3</td>\n",
       "      <td>offer3</td>\n",
       "      <td>call center</td>\n",
       "      <td>480</td>\n",
       "      <td>suv</td>\n",
       "      <td>medsize</td>\n",
       "    </tr>\n",
       "    <tr>\n",
       "      <th>3</th>\n",
       "      <td>north west</td>\n",
       "      <td>22332</td>\n",
       "      <td>yes</td>\n",
       "      <td>extended</td>\n",
       "      <td>college</td>\n",
       "      <td>1/11/11</td>\n",
       "      <td>jan</td>\n",
       "      <td>employed</td>\n",
       "      <td>m</td>\n",
       "      <td>49078</td>\n",
       "      <td>...</td>\n",
       "      <td>3</td>\n",
       "      <td>0</td>\n",
       "      <td>2</td>\n",
       "      <td>corporate auto</td>\n",
       "      <td>corporate l3</td>\n",
       "      <td>offer2</td>\n",
       "      <td>branch</td>\n",
       "      <td>484</td>\n",
       "      <td>four-door car</td>\n",
       "      <td>medsize</td>\n",
       "    </tr>\n",
       "    <tr>\n",
       "      <th>4</th>\n",
       "      <td>north west</td>\n",
       "      <td>9025</td>\n",
       "      <td>no</td>\n",
       "      <td>premium</td>\n",
       "      <td>bachelor</td>\n",
       "      <td>1/17/11</td>\n",
       "      <td>jan</td>\n",
       "      <td>medical leave</td>\n",
       "      <td>f</td>\n",
       "      <td>23675</td>\n",
       "      <td>...</td>\n",
       "      <td>31</td>\n",
       "      <td>0</td>\n",
       "      <td>7</td>\n",
       "      <td>personal auto</td>\n",
       "      <td>personal l2</td>\n",
       "      <td>offer1</td>\n",
       "      <td>branch</td>\n",
       "      <td>707</td>\n",
       "      <td>four-door car</td>\n",
       "      <td>medsize</td>\n",
       "    </tr>\n",
       "    <tr>\n",
       "      <th>...</th>\n",
       "      <td>...</td>\n",
       "      <td>...</td>\n",
       "      <td>...</td>\n",
       "      <td>...</td>\n",
       "      <td>...</td>\n",
       "      <td>...</td>\n",
       "      <td>...</td>\n",
       "      <td>...</td>\n",
       "      <td>...</td>\n",
       "      <td>...</td>\n",
       "      <td>...</td>\n",
       "      <td>...</td>\n",
       "      <td>...</td>\n",
       "      <td>...</td>\n",
       "      <td>...</td>\n",
       "      <td>...</td>\n",
       "      <td>...</td>\n",
       "      <td>...</td>\n",
       "      <td>...</td>\n",
       "      <td>...</td>\n",
       "      <td>...</td>\n",
       "    </tr>\n",
       "    <tr>\n",
       "      <th>10684</th>\n",
       "      <td>central</td>\n",
       "      <td>15563</td>\n",
       "      <td>no</td>\n",
       "      <td>premium</td>\n",
       "      <td>bachelor</td>\n",
       "      <td>1/19/11</td>\n",
       "      <td>jan</td>\n",
       "      <td>unemployed</td>\n",
       "      <td>f</td>\n",
       "      <td>61541</td>\n",
       "      <td>...</td>\n",
       "      <td>40</td>\n",
       "      <td>0</td>\n",
       "      <td>7</td>\n",
       "      <td>personal auto</td>\n",
       "      <td>personal l1</td>\n",
       "      <td>offer3</td>\n",
       "      <td>web</td>\n",
       "      <td>1214</td>\n",
       "      <td>luxury car</td>\n",
       "      <td>medsize</td>\n",
       "    </tr>\n",
       "    <tr>\n",
       "      <th>10685</th>\n",
       "      <td>north west</td>\n",
       "      <td>5259</td>\n",
       "      <td>no</td>\n",
       "      <td>basic</td>\n",
       "      <td>college</td>\n",
       "      <td>1/6/11</td>\n",
       "      <td>jan</td>\n",
       "      <td>employed</td>\n",
       "      <td>f</td>\n",
       "      <td>61146</td>\n",
       "      <td>...</td>\n",
       "      <td>68</td>\n",
       "      <td>0</td>\n",
       "      <td>6</td>\n",
       "      <td>personal auto</td>\n",
       "      <td>personal l3</td>\n",
       "      <td>offer2</td>\n",
       "      <td>branch</td>\n",
       "      <td>273</td>\n",
       "      <td>four-door car</td>\n",
       "      <td>medsize</td>\n",
       "    </tr>\n",
       "    <tr>\n",
       "      <th>10686</th>\n",
       "      <td>central</td>\n",
       "      <td>23893</td>\n",
       "      <td>no</td>\n",
       "      <td>extended</td>\n",
       "      <td>bachelor</td>\n",
       "      <td>2/6/11</td>\n",
       "      <td>feb</td>\n",
       "      <td>employed</td>\n",
       "      <td>f</td>\n",
       "      <td>39837</td>\n",
       "      <td>...</td>\n",
       "      <td>63</td>\n",
       "      <td>0</td>\n",
       "      <td>2</td>\n",
       "      <td>corporate auto</td>\n",
       "      <td>corporate l3</td>\n",
       "      <td>offer1</td>\n",
       "      <td>web</td>\n",
       "      <td>381</td>\n",
       "      <td>luxury suv</td>\n",
       "      <td>medsize</td>\n",
       "    </tr>\n",
       "    <tr>\n",
       "      <th>10687</th>\n",
       "      <td>west region</td>\n",
       "      <td>11971</td>\n",
       "      <td>no</td>\n",
       "      <td>premium</td>\n",
       "      <td>college</td>\n",
       "      <td>2/13/11</td>\n",
       "      <td>feb</td>\n",
       "      <td>employed</td>\n",
       "      <td>f</td>\n",
       "      <td>64195</td>\n",
       "      <td>...</td>\n",
       "      <td>27</td>\n",
       "      <td>4</td>\n",
       "      <td>6</td>\n",
       "      <td>personal auto</td>\n",
       "      <td>personal l1</td>\n",
       "      <td>offer1</td>\n",
       "      <td>branch</td>\n",
       "      <td>618</td>\n",
       "      <td>suv</td>\n",
       "      <td>medsize</td>\n",
       "    </tr>\n",
       "    <tr>\n",
       "      <th>10688</th>\n",
       "      <td>central</td>\n",
       "      <td>6857</td>\n",
       "      <td>no</td>\n",
       "      <td>basic</td>\n",
       "      <td>bachelor</td>\n",
       "      <td>1/8/11</td>\n",
       "      <td>jan</td>\n",
       "      <td>unemployed</td>\n",
       "      <td>m</td>\n",
       "      <td>68942</td>\n",
       "      <td>...</td>\n",
       "      <td>1</td>\n",
       "      <td>0</td>\n",
       "      <td>3</td>\n",
       "      <td>personal auto</td>\n",
       "      <td>personal l1</td>\n",
       "      <td>offer4</td>\n",
       "      <td>web</td>\n",
       "      <td>1021</td>\n",
       "      <td>suv</td>\n",
       "      <td>medsize</td>\n",
       "    </tr>\n",
       "  </tbody>\n",
       "</table>\n",
       "<p>10689 rows × 24 columns</p>\n",
       "</div>"
      ],
      "text/plain": [
       "            region  customer_lifetime_value response  coverage education  \\\n",
       "0          central                     4809       no     basic   college   \n",
       "1      west region                     2228       no     basic   college   \n",
       "2             east                    14947       no     basic  bachelor   \n",
       "3       north west                    22332      yes  extended   college   \n",
       "4       north west                     9025       no   premium  bachelor   \n",
       "...            ...                      ...      ...       ...       ...   \n",
       "10684      central                    15563       no   premium  bachelor   \n",
       "10685   north west                     5259       no     basic   college   \n",
       "10686      central                    23893       no  extended  bachelor   \n",
       "10687  west region                    11971       no   premium   college   \n",
       "10688      central                     6857       no     basic  bachelor   \n",
       "\n",
       "      effective_to_date month employment_status gender  income  ...  \\\n",
       "0               2/18/11   feb          employed      m   48029  ...   \n",
       "1               1/18/11   jan        unemployed      f   92260  ...   \n",
       "2               2/10/11   feb          employed      m   22139  ...   \n",
       "3               1/11/11   jan          employed      m   49078  ...   \n",
       "4               1/17/11   jan     medical leave      f   23675  ...   \n",
       "...                 ...   ...               ...    ...     ...  ...   \n",
       "10684           1/19/11   jan        unemployed      f   61541  ...   \n",
       "10685            1/6/11   jan          employed      f   61146  ...   \n",
       "10686            2/6/11   feb          employed      f   39837  ...   \n",
       "10687           2/13/11   feb          employed      f   64195  ...   \n",
       "10688            1/8/11   jan        unemployed      m   68942  ...   \n",
       "\n",
       "      months_since_policy_inception number_of_open_complaints  \\\n",
       "0                                52                         0   \n",
       "1                                26                         0   \n",
       "2                                31                         0   \n",
       "3                                 3                         0   \n",
       "4                                31                         0   \n",
       "...                             ...                       ...   \n",
       "10684                            40                         0   \n",
       "10685                            68                         0   \n",
       "10686                            63                         0   \n",
       "10687                            27                         4   \n",
       "10688                             1                         0   \n",
       "\n",
       "       number_of_policies     policy_type        policy  renew_offer_type  \\\n",
       "0                       9  corporate auto  corporate l3            offer3   \n",
       "1                       1   personal auto   personal l3            offer4   \n",
       "2                       2   personal auto   personal l3            offer3   \n",
       "3                       2  corporate auto  corporate l3            offer2   \n",
       "4                       7   personal auto   personal l2            offer1   \n",
       "...                   ...             ...           ...               ...   \n",
       "10684                   7   personal auto   personal l1            offer3   \n",
       "10685                   6   personal auto   personal l3            offer2   \n",
       "10686                   2  corporate auto  corporate l3            offer1   \n",
       "10687                   6   personal auto   personal l1            offer1   \n",
       "10688                   3   personal auto   personal l1            offer4   \n",
       "\n",
       "       sales_channel total_claim_amount  vehicle_class vehicle_size  \n",
       "0              agent                292  four-door car      medsize  \n",
       "1        call center                744  four-door car      medsize  \n",
       "2        call center                480            suv      medsize  \n",
       "3             branch                484  four-door car      medsize  \n",
       "4             branch                707  four-door car      medsize  \n",
       "...              ...                ...            ...          ...  \n",
       "10684            web               1214     luxury car      medsize  \n",
       "10685         branch                273  four-door car      medsize  \n",
       "10686            web                381     luxury suv      medsize  \n",
       "10687         branch                618            suv      medsize  \n",
       "10688            web               1021            suv      medsize  \n",
       "\n",
       "[10689 rows x 24 columns]"
      ]
     },
     "execution_count": 55,
     "metadata": {},
     "output_type": "execute_result"
    }
   ],
   "source": [
    "data_frame_df= pd.read_csv(\"Data_Marketing_Customer_Analysis_Round3 (3).csv\")\n",
    "data_frame_df "
   ]
  },
  {
   "cell_type": "markdown",
   "id": "b58a6ab1",
   "metadata": {},
   "source": [
    "# check if there are highly correlated features and drop them if there are any."
   ]
  },
  {
   "cell_type": "code",
   "execution_count": 56,
   "id": "89829737",
   "metadata": {},
   "outputs": [
    {
     "data": {
      "image/png": "[encoded data removed]",
      "text/plain": [
       "<Figure size 1080x864 with 3 Axes>"
      ]
     },
     "metadata": {
      "needs_background": "light"
     },
     "output_type": "display_data"
    }
   ],
   "source": [
    "###-Plot the Correlation Heatmap.\n",
    "plt.figure(figsize=(15,12)) ### FIGURE SIZE\n",
    "\n",
    "heatmap=sns.heatmap(data_frame_df.corr())\n",
    "heatmap.set_title('Correlation Heatmap', fontdict={'fontsize':20}, pad=30)\n",
    "\n",
    "heatmap = sns.heatmap(data_frame_df.corr(),annot_kws={\"size\":18}, vmin=-1, vmax=1, annot= True) ## annot para la letra, kw=tamano y True para existir o no\n"
   ]
  },
  {
   "cell_type": "code",
   "execution_count": 57,
   "id": "97d5e2e8",
   "metadata": {},
   "outputs": [
    {
     "data": {
      "text/html": [
       "<div>\n",
       "<style scoped>\n",
       "    .dataframe tbody tr th:only-of-type {\n",
       "        vertical-align: middle;\n",
       "    }\n",
       "\n",
       "    .dataframe tbody tr th {\n",
       "        vertical-align: top;\n",
       "    }\n",
       "\n",
       "    .dataframe thead th {\n",
       "        text-align: right;\n",
       "    }\n",
       "</style>\n",
       "<table border=\"1\" class=\"dataframe\">\n",
       "  <thead>\n",
       "    <tr style=\"text-align: right;\">\n",
       "      <th></th>\n",
       "      <th>customer_lifetime_value</th>\n",
       "      <th>income</th>\n",
       "      <th>monthly_premium_auto</th>\n",
       "      <th>months_since_last_claim</th>\n",
       "      <th>months_since_policy_inception</th>\n",
       "      <th>number_of_open_complaints</th>\n",
       "      <th>number_of_policies</th>\n",
       "      <th>total_claim_amount</th>\n",
       "    </tr>\n",
       "  </thead>\n",
       "  <tbody>\n",
       "    <tr>\n",
       "      <th>customer_lifetime_value</th>\n",
       "      <td>1.000000</td>\n",
       "      <td>0.003732</td>\n",
       "      <td>0.404235</td>\n",
       "      <td>0.011912</td>\n",
       "      <td>0.017055</td>\n",
       "      <td>-0.032371</td>\n",
       "      <td>0.016789</td>\n",
       "      <td>0.232849</td>\n",
       "    </tr>\n",
       "    <tr>\n",
       "      <th>income</th>\n",
       "      <td>0.003732</td>\n",
       "      <td>1.000000</td>\n",
       "      <td>-0.002431</td>\n",
       "      <td>-0.026564</td>\n",
       "      <td>0.003846</td>\n",
       "      <td>0.018903</td>\n",
       "      <td>-0.004461</td>\n",
       "      <td>-0.111221</td>\n",
       "    </tr>\n",
       "    <tr>\n",
       "      <th>monthly_premium_auto</th>\n",
       "      <td>0.404235</td>\n",
       "      <td>-0.002431</td>\n",
       "      <td>1.000000</td>\n",
       "      <td>0.010036</td>\n",
       "      <td>0.019696</td>\n",
       "      <td>-0.008811</td>\n",
       "      <td>-0.018805</td>\n",
       "      <td>0.630149</td>\n",
       "    </tr>\n",
       "    <tr>\n",
       "      <th>months_since_last_claim</th>\n",
       "      <td>0.011912</td>\n",
       "      <td>-0.026564</td>\n",
       "      <td>0.010036</td>\n",
       "      <td>1.000000</td>\n",
       "      <td>-0.034086</td>\n",
       "      <td>0.001204</td>\n",
       "      <td>0.000814</td>\n",
       "      <td>0.013874</td>\n",
       "    </tr>\n",
       "    <tr>\n",
       "      <th>months_since_policy_inception</th>\n",
       "      <td>0.017055</td>\n",
       "      <td>0.003846</td>\n",
       "      <td>0.019696</td>\n",
       "      <td>-0.034086</td>\n",
       "      <td>1.000000</td>\n",
       "      <td>0.002554</td>\n",
       "      <td>-0.009719</td>\n",
       "      <td>0.004186</td>\n",
       "    </tr>\n",
       "    <tr>\n",
       "      <th>number_of_open_complaints</th>\n",
       "      <td>-0.032371</td>\n",
       "      <td>0.018903</td>\n",
       "      <td>-0.008811</td>\n",
       "      <td>0.001204</td>\n",
       "      <td>0.002554</td>\n",
       "      <td>1.000000</td>\n",
       "      <td>-0.000303</td>\n",
       "      <td>-0.010668</td>\n",
       "    </tr>\n",
       "    <tr>\n",
       "      <th>number_of_policies</th>\n",
       "      <td>0.016789</td>\n",
       "      <td>-0.004461</td>\n",
       "      <td>-0.018805</td>\n",
       "      <td>0.000814</td>\n",
       "      <td>-0.009719</td>\n",
       "      <td>-0.000303</td>\n",
       "      <td>1.000000</td>\n",
       "      <td>-0.008019</td>\n",
       "    </tr>\n",
       "    <tr>\n",
       "      <th>total_claim_amount</th>\n",
       "      <td>0.232849</td>\n",
       "      <td>-0.111221</td>\n",
       "      <td>0.630149</td>\n",
       "      <td>0.013874</td>\n",
       "      <td>0.004186</td>\n",
       "      <td>-0.010668</td>\n",
       "      <td>-0.008019</td>\n",
       "      <td>1.000000</td>\n",
       "    </tr>\n",
       "  </tbody>\n",
       "</table>\n",
       "</div>"
      ],
      "text/plain": [
       "                               customer_lifetime_value    income  \\\n",
       "customer_lifetime_value                       1.000000  0.003732   \n",
       "income                                        0.003732  1.000000   \n",
       "monthly_premium_auto                          0.404235 -0.002431   \n",
       "months_since_last_claim                       0.011912 -0.026564   \n",
       "months_since_policy_inception                 0.017055  0.003846   \n",
       "number_of_open_complaints                    -0.032371  0.018903   \n",
       "number_of_policies                            0.016789 -0.004461   \n",
       "total_claim_amount                            0.232849 -0.111221   \n",
       "\n",
       "                               monthly_premium_auto  months_since_last_claim  \\\n",
       "customer_lifetime_value                    0.404235                 0.011912   \n",
       "income                                    -0.002431                -0.026564   \n",
       "monthly_premium_auto                       1.000000                 0.010036   \n",
       "months_since_last_claim                    0.010036                 1.000000   \n",
       "months_since_policy_inception              0.019696                -0.034086   \n",
       "number_of_open_complaints                 -0.008811                 0.001204   \n",
       "number_of_policies                        -0.018805                 0.000814   \n",
       "total_claim_amount                         0.630149                 0.013874   \n",
       "\n",
       "                               months_since_policy_inception  \\\n",
       "customer_lifetime_value                             0.017055   \n",
       "income                                              0.003846   \n",
       "monthly_premium_auto                                0.019696   \n",
       "months_since_last_claim                            -0.034086   \n",
       "months_since_policy_inception                       1.000000   \n",
       "number_of_open_complaints                           0.002554   \n",
       "number_of_policies                                 -0.009719   \n",
       "total_claim_amount                                  0.004186   \n",
       "\n",
       "                               number_of_open_complaints  number_of_policies  \\\n",
       "customer_lifetime_value                        -0.032371            0.016789   \n",
       "income                                          0.018903           -0.004461   \n",
       "monthly_premium_auto                           -0.008811           -0.018805   \n",
       "months_since_last_claim                         0.001204            0.000814   \n",
       "months_since_policy_inception                   0.002554           -0.009719   \n",
       "number_of_open_complaints                       1.000000           -0.000303   \n",
       "number_of_policies                             -0.000303            1.000000   \n",
       "total_claim_amount                             -0.010668           -0.008019   \n",
       "\n",
       "                               total_claim_amount  \n",
       "customer_lifetime_value                  0.232849  \n",
       "income                                  -0.111221  \n",
       "monthly_premium_auto                     0.630149  \n",
       "months_since_last_claim                  0.013874  \n",
       "months_since_policy_inception            0.004186  \n",
       "number_of_open_complaints               -0.010668  \n",
       "number_of_policies                      -0.008019  \n",
       "total_claim_amount                       1.000000  "
      ]
     },
     "execution_count": 57,
     "metadata": {},
     "output_type": "execute_result"
    }
   ],
   "source": [
    "\n",
    "data_frame_df.corr()"
   ]
  },
  {
   "cell_type": "code",
   "execution_count": 58,
   "id": "031c7bda",
   "metadata": {},
   "outputs": [],
   "source": [
    "#montly premiun auto and total claim amount = 0.63 which is not enought to be dropp\n"
   ]
  },
  {
   "cell_type": "markdown",
   "id": "01f394ec",
   "metadata": {},
   "source": [
    "# One Hot/Label Encoding of the categorical variables in the categoricals data frame that you created in Activity 3. ( Hint: check Dropfirst option)."
   ]
  },
  {
   "cell_type": "code",
   "execution_count": 59,
   "id": "c00470fd",
   "metadata": {},
   "outputs": [],
   "source": [
    "categoricals_df= data_frame_df.select_dtypes(include='object')"
   ]
  },
  {
   "cell_type": "code",
   "execution_count": 60,
   "id": "b3f261ee",
   "metadata": {},
   "outputs": [
    {
     "data": {
      "text/html": [
       "<div>\n",
       "<style scoped>\n",
       "    .dataframe tbody tr th:only-of-type {\n",
       "        vertical-align: middle;\n",
       "    }\n",
       "\n",
       "    .dataframe tbody tr th {\n",
       "        vertical-align: top;\n",
       "    }\n",
       "\n",
       "    .dataframe thead th {\n",
       "        text-align: right;\n",
       "    }\n",
       "</style>\n",
       "<table border=\"1\" class=\"dataframe\">\n",
       "  <thead>\n",
       "    <tr style=\"text-align: right;\">\n",
       "      <th></th>\n",
       "      <th>region</th>\n",
       "      <th>response</th>\n",
       "      <th>coverage</th>\n",
       "      <th>education</th>\n",
       "      <th>effective_to_date</th>\n",
       "      <th>month</th>\n",
       "      <th>employment_status</th>\n",
       "      <th>gender</th>\n",
       "      <th>location_code</th>\n",
       "      <th>marital_status</th>\n",
       "      <th>policy_type</th>\n",
       "      <th>policy</th>\n",
       "      <th>renew_offer_type</th>\n",
       "      <th>sales_channel</th>\n",
       "      <th>vehicle_class</th>\n",
       "      <th>vehicle_size</th>\n",
       "    </tr>\n",
       "  </thead>\n",
       "  <tbody>\n",
       "    <tr>\n",
       "      <th>0</th>\n",
       "      <td>central</td>\n",
       "      <td>no</td>\n",
       "      <td>basic</td>\n",
       "      <td>college</td>\n",
       "      <td>2/18/11</td>\n",
       "      <td>feb</td>\n",
       "      <td>employed</td>\n",
       "      <td>m</td>\n",
       "      <td>suburban</td>\n",
       "      <td>married</td>\n",
       "      <td>corporate auto</td>\n",
       "      <td>corporate l3</td>\n",
       "      <td>offer3</td>\n",
       "      <td>agent</td>\n",
       "      <td>four-door car</td>\n",
       "      <td>medsize</td>\n",
       "    </tr>\n",
       "    <tr>\n",
       "      <th>1</th>\n",
       "      <td>west region</td>\n",
       "      <td>no</td>\n",
       "      <td>basic</td>\n",
       "      <td>college</td>\n",
       "      <td>1/18/11</td>\n",
       "      <td>jan</td>\n",
       "      <td>unemployed</td>\n",
       "      <td>f</td>\n",
       "      <td>suburban</td>\n",
       "      <td>single</td>\n",
       "      <td>personal auto</td>\n",
       "      <td>personal l3</td>\n",
       "      <td>offer4</td>\n",
       "      <td>call center</td>\n",
       "      <td>four-door car</td>\n",
       "      <td>medsize</td>\n",
       "    </tr>\n",
       "    <tr>\n",
       "      <th>2</th>\n",
       "      <td>east</td>\n",
       "      <td>no</td>\n",
       "      <td>basic</td>\n",
       "      <td>bachelor</td>\n",
       "      <td>2/10/11</td>\n",
       "      <td>feb</td>\n",
       "      <td>employed</td>\n",
       "      <td>m</td>\n",
       "      <td>suburban</td>\n",
       "      <td>single</td>\n",
       "      <td>personal auto</td>\n",
       "      <td>personal l3</td>\n",
       "      <td>offer3</td>\n",
       "      <td>call center</td>\n",
       "      <td>suv</td>\n",
       "      <td>medsize</td>\n",
       "    </tr>\n",
       "    <tr>\n",
       "      <th>3</th>\n",
       "      <td>north west</td>\n",
       "      <td>yes</td>\n",
       "      <td>extended</td>\n",
       "      <td>college</td>\n",
       "      <td>1/11/11</td>\n",
       "      <td>jan</td>\n",
       "      <td>employed</td>\n",
       "      <td>m</td>\n",
       "      <td>suburban</td>\n",
       "      <td>single</td>\n",
       "      <td>corporate auto</td>\n",
       "      <td>corporate l3</td>\n",
       "      <td>offer2</td>\n",
       "      <td>branch</td>\n",
       "      <td>four-door car</td>\n",
       "      <td>medsize</td>\n",
       "    </tr>\n",
       "    <tr>\n",
       "      <th>4</th>\n",
       "      <td>north west</td>\n",
       "      <td>no</td>\n",
       "      <td>premium</td>\n",
       "      <td>bachelor</td>\n",
       "      <td>1/17/11</td>\n",
       "      <td>jan</td>\n",
       "      <td>medical leave</td>\n",
       "      <td>f</td>\n",
       "      <td>suburban</td>\n",
       "      <td>married</td>\n",
       "      <td>personal auto</td>\n",
       "      <td>personal l2</td>\n",
       "      <td>offer1</td>\n",
       "      <td>branch</td>\n",
       "      <td>four-door car</td>\n",
       "      <td>medsize</td>\n",
       "    </tr>\n",
       "  </tbody>\n",
       "</table>\n",
       "</div>"
      ],
      "text/plain": [
       "        region response  coverage education effective_to_date month  \\\n",
       "0      central       no     basic   college           2/18/11   feb   \n",
       "1  west region       no     basic   college           1/18/11   jan   \n",
       "2         east       no     basic  bachelor           2/10/11   feb   \n",
       "3   north west      yes  extended   college           1/11/11   jan   \n",
       "4   north west       no   premium  bachelor           1/17/11   jan   \n",
       "\n",
       "  employment_status gender location_code marital_status     policy_type  \\\n",
       "0          employed      m      suburban        married  corporate auto   \n",
       "1        unemployed      f      suburban         single   personal auto   \n",
       "2          employed      m      suburban         single   personal auto   \n",
       "3          employed      m      suburban         single  corporate auto   \n",
       "4     medical leave      f      suburban        married   personal auto   \n",
       "\n",
       "         policy renew_offer_type sales_channel  vehicle_class vehicle_size  \n",
       "0  corporate l3           offer3         agent  four-door car      medsize  \n",
       "1   personal l3           offer4   call center  four-door car      medsize  \n",
       "2   personal l3           offer3   call center            suv      medsize  \n",
       "3  corporate l3           offer2        branch  four-door car      medsize  \n",
       "4   personal l2           offer1        branch  four-door car      medsize  "
      ]
     },
     "execution_count": 60,
     "metadata": {},
     "output_type": "execute_result"
    }
   ],
   "source": [
    "categoricals_df.head()"
   ]
  },
  {
   "cell_type": "code",
   "execution_count": 61,
   "id": "7490658e",
   "metadata": {},
   "outputs": [
    {
     "data": {
      "text/plain": [
       "Index(['region', 'response', 'coverage', 'education', 'effective_to_date',\n",
       "       'month', 'employment_status', 'gender', 'location_code',\n",
       "       'marital_status', 'policy_type', 'policy', 'renew_offer_type',\n",
       "       'sales_channel', 'vehicle_class', 'vehicle_size'],\n",
       "      dtype='object')"
      ]
     },
     "execution_count": 61,
     "metadata": {},
     "output_type": "execute_result"
    }
   ],
   "source": [
    "categoricals_df.columns"
   ]
  },
  {
   "cell_type": "code",
   "execution_count": 62,
   "id": "9376097a",
   "metadata": {},
   "outputs": [
    {
     "data": {
      "text/plain": [
       "array(['central', 'west region', 'east', 'north west'], dtype=object)"
      ]
     },
     "execution_count": 62,
     "metadata": {},
     "output_type": "execute_result"
    }
   ],
   "source": [
    "categoricals_df[\"region\"].unique()"
   ]
  },
  {
   "cell_type": "code",
   "execution_count": 63,
   "id": "87953121",
   "metadata": {},
   "outputs": [],
   "source": [
    "from sklearn import preprocessing\n",
    "label_encoder = preprocessing.LabelEncoder()\n",
    "categoricals_df[\"region\"]= label_encoder.fit_transform(categoricals_df[\"region\"])\n",
    "\n",
    "label_encoder = preprocessing.LabelEncoder()\n",
    "categoricals_df[\"response\"]= label_encoder.fit_transform(categoricals_df[\"response\"])\n",
    "\n",
    "label_encoder = preprocessing.LabelEncoder()\n",
    "categoricals_df[\"coverage\"]= label_encoder.fit_transform(categoricals_df[\"coverage\"])\n",
    "\n",
    "label_encoder = preprocessing.LabelEncoder()\n",
    "categoricals_df[\"education\"]= label_encoder.fit_transform(categoricals_df[\"education\"])\n",
    "\n",
    "label_encoder = preprocessing.LabelEncoder()\n",
    "categoricals_df[\"month\"]= label_encoder.fit_transform(categoricals_df[\"month\"])\n",
    "\n",
    "label_encoder = preprocessing.LabelEncoder()\n",
    "categoricals_df[\"employment_status\"]= label_encoder.fit_transform(categoricals_df[\"employment_status\"])\n",
    "\n",
    "label_encoder = preprocessing.LabelEncoder()\n",
    "categoricals_df[\"gender\"]= label_encoder.fit_transform(categoricals_df[\"gender\"])\n",
    "\n",
    "label_encoder = preprocessing.LabelEncoder()\n",
    "categoricals_df[\"location_code\"]= label_encoder.fit_transform(categoricals_df[\"location_code\"])\n",
    "\n",
    "label_encoder = preprocessing.LabelEncoder()\n",
    "categoricals_df[\"marital_status\"]= label_encoder.fit_transform(categoricals_df[\"marital_status\"])\n",
    "\n",
    "label_encoder = preprocessing.LabelEncoder()\n",
    "categoricals_df[\"policy_type\"]= label_encoder.fit_transform(categoricals_df[\"policy_type\"])\n",
    "\n",
    "label_encoder = preprocessing.LabelEncoder()\n",
    "categoricals_df[\"policy\"]= label_encoder.fit_transform(categoricals_df[\"policy\"])\n",
    "\n",
    "label_encoder = preprocessing.LabelEncoder()\n",
    "categoricals_df[\"renew_offer_type\"]= label_encoder.fit_transform(categoricals_df[\"renew_offer_type\"])\n",
    "\n",
    "label_encoder = preprocessing.LabelEncoder()\n",
    "categoricals_df[\"sales_channel\"]= label_encoder.fit_transform(categoricals_df[\"sales_channel\"])\n",
    "\n",
    "label_encoder = preprocessing.LabelEncoder()\n",
    "categoricals_df[\"vehicle_class\"]= label_encoder.fit_transform(categoricals_df[\"vehicle_class\"])\n",
    "\n",
    "label_encoder = preprocessing.LabelEncoder()\n",
    "categoricals_df[\"vehicle_size\"]= label_encoder.fit_transform(categoricals_df[\"vehicle_size\"])\n",
    "\n"
   ]
  },
  {
   "cell_type": "code",
   "execution_count": 64,
   "id": "d8ab97b7",
   "metadata": {},
   "outputs": [],
   "source": [
    "#igual que las formulas anterios pero en funcion\n",
    "def categoricals_encoding(x):\n",
    "    categoricals_df[x] = label_encoder.fit_transform(categoricals_df[x])\n",
    "    return categoricals_df"
   ]
  },
  {
   "cell_type": "code",
   "execution_count": 65,
   "id": "349321e4",
   "metadata": {},
   "outputs": [
    {
     "data": {
      "text/html": [
       "<div>\n",
       "<style scoped>\n",
       "    .dataframe tbody tr th:only-of-type {\n",
       "        vertical-align: middle;\n",
       "    }\n",
       "\n",
       "    .dataframe tbody tr th {\n",
       "        vertical-align: top;\n",
       "    }\n",
       "\n",
       "    .dataframe thead th {\n",
       "        text-align: right;\n",
       "    }\n",
       "</style>\n",
       "<table border=\"1\" class=\"dataframe\">\n",
       "  <thead>\n",
       "    <tr style=\"text-align: right;\">\n",
       "      <th></th>\n",
       "      <th>region</th>\n",
       "      <th>response</th>\n",
       "      <th>coverage</th>\n",
       "      <th>education</th>\n",
       "      <th>effective_to_date</th>\n",
       "      <th>month</th>\n",
       "      <th>employment_status</th>\n",
       "      <th>gender</th>\n",
       "      <th>location_code</th>\n",
       "      <th>marital_status</th>\n",
       "      <th>policy_type</th>\n",
       "      <th>policy</th>\n",
       "      <th>renew_offer_type</th>\n",
       "      <th>sales_channel</th>\n",
       "      <th>vehicle_class</th>\n",
       "      <th>vehicle_size</th>\n",
       "    </tr>\n",
       "  </thead>\n",
       "  <tbody>\n",
       "    <tr>\n",
       "      <th>0</th>\n",
       "      <td>0</td>\n",
       "      <td>0</td>\n",
       "      <td>0</td>\n",
       "      <td>1</td>\n",
       "      <td>2/18/11</td>\n",
       "      <td>0</td>\n",
       "      <td>1</td>\n",
       "      <td>1</td>\n",
       "      <td>1</td>\n",
       "      <td>1</td>\n",
       "      <td>0</td>\n",
       "      <td>2</td>\n",
       "      <td>2</td>\n",
       "      <td>0</td>\n",
       "      <td>0</td>\n",
       "      <td>1</td>\n",
       "    </tr>\n",
       "    <tr>\n",
       "      <th>1</th>\n",
       "      <td>3</td>\n",
       "      <td>0</td>\n",
       "      <td>0</td>\n",
       "      <td>1</td>\n",
       "      <td>1/18/11</td>\n",
       "      <td>1</td>\n",
       "      <td>4</td>\n",
       "      <td>0</td>\n",
       "      <td>1</td>\n",
       "      <td>2</td>\n",
       "      <td>1</td>\n",
       "      <td>5</td>\n",
       "      <td>3</td>\n",
       "      <td>2</td>\n",
       "      <td>0</td>\n",
       "      <td>1</td>\n",
       "    </tr>\n",
       "    <tr>\n",
       "      <th>2</th>\n",
       "      <td>1</td>\n",
       "      <td>0</td>\n",
       "      <td>0</td>\n",
       "      <td>0</td>\n",
       "      <td>2/10/11</td>\n",
       "      <td>0</td>\n",
       "      <td>1</td>\n",
       "      <td>1</td>\n",
       "      <td>1</td>\n",
       "      <td>2</td>\n",
       "      <td>1</td>\n",
       "      <td>5</td>\n",
       "      <td>2</td>\n",
       "      <td>2</td>\n",
       "      <td>4</td>\n",
       "      <td>1</td>\n",
       "    </tr>\n",
       "    <tr>\n",
       "      <th>3</th>\n",
       "      <td>2</td>\n",
       "      <td>1</td>\n",
       "      <td>1</td>\n",
       "      <td>1</td>\n",
       "      <td>1/11/11</td>\n",
       "      <td>1</td>\n",
       "      <td>1</td>\n",
       "      <td>1</td>\n",
       "      <td>1</td>\n",
       "      <td>2</td>\n",
       "      <td>0</td>\n",
       "      <td>2</td>\n",
       "      <td>1</td>\n",
       "      <td>1</td>\n",
       "      <td>0</td>\n",
       "      <td>1</td>\n",
       "    </tr>\n",
       "    <tr>\n",
       "      <th>4</th>\n",
       "      <td>2</td>\n",
       "      <td>0</td>\n",
       "      <td>2</td>\n",
       "      <td>0</td>\n",
       "      <td>1/17/11</td>\n",
       "      <td>1</td>\n",
       "      <td>2</td>\n",
       "      <td>0</td>\n",
       "      <td>1</td>\n",
       "      <td>1</td>\n",
       "      <td>1</td>\n",
       "      <td>4</td>\n",
       "      <td>0</td>\n",
       "      <td>1</td>\n",
       "      <td>0</td>\n",
       "      <td>1</td>\n",
       "    </tr>\n",
       "    <tr>\n",
       "      <th>...</th>\n",
       "      <td>...</td>\n",
       "      <td>...</td>\n",
       "      <td>...</td>\n",
       "      <td>...</td>\n",
       "      <td>...</td>\n",
       "      <td>...</td>\n",
       "      <td>...</td>\n",
       "      <td>...</td>\n",
       "      <td>...</td>\n",
       "      <td>...</td>\n",
       "      <td>...</td>\n",
       "      <td>...</td>\n",
       "      <td>...</td>\n",
       "      <td>...</td>\n",
       "      <td>...</td>\n",
       "      <td>...</td>\n",
       "    </tr>\n",
       "    <tr>\n",
       "      <th>10684</th>\n",
       "      <td>0</td>\n",
       "      <td>0</td>\n",
       "      <td>2</td>\n",
       "      <td>0</td>\n",
       "      <td>1/19/11</td>\n",
       "      <td>1</td>\n",
       "      <td>4</td>\n",
       "      <td>0</td>\n",
       "      <td>1</td>\n",
       "      <td>1</td>\n",
       "      <td>1</td>\n",
       "      <td>3</td>\n",
       "      <td>2</td>\n",
       "      <td>3</td>\n",
       "      <td>1</td>\n",
       "      <td>1</td>\n",
       "    </tr>\n",
       "    <tr>\n",
       "      <th>10685</th>\n",
       "      <td>2</td>\n",
       "      <td>0</td>\n",
       "      <td>0</td>\n",
       "      <td>1</td>\n",
       "      <td>1/6/11</td>\n",
       "      <td>1</td>\n",
       "      <td>1</td>\n",
       "      <td>0</td>\n",
       "      <td>2</td>\n",
       "      <td>1</td>\n",
       "      <td>1</td>\n",
       "      <td>5</td>\n",
       "      <td>1</td>\n",
       "      <td>1</td>\n",
       "      <td>0</td>\n",
       "      <td>1</td>\n",
       "    </tr>\n",
       "    <tr>\n",
       "      <th>10686</th>\n",
       "      <td>0</td>\n",
       "      <td>0</td>\n",
       "      <td>1</td>\n",
       "      <td>0</td>\n",
       "      <td>2/6/11</td>\n",
       "      <td>0</td>\n",
       "      <td>1</td>\n",
       "      <td>0</td>\n",
       "      <td>0</td>\n",
       "      <td>1</td>\n",
       "      <td>0</td>\n",
       "      <td>2</td>\n",
       "      <td>0</td>\n",
       "      <td>3</td>\n",
       "      <td>2</td>\n",
       "      <td>1</td>\n",
       "    </tr>\n",
       "    <tr>\n",
       "      <th>10687</th>\n",
       "      <td>3</td>\n",
       "      <td>0</td>\n",
       "      <td>2</td>\n",
       "      <td>1</td>\n",
       "      <td>2/13/11</td>\n",
       "      <td>0</td>\n",
       "      <td>1</td>\n",
       "      <td>0</td>\n",
       "      <td>2</td>\n",
       "      <td>0</td>\n",
       "      <td>1</td>\n",
       "      <td>3</td>\n",
       "      <td>0</td>\n",
       "      <td>1</td>\n",
       "      <td>4</td>\n",
       "      <td>1</td>\n",
       "    </tr>\n",
       "    <tr>\n",
       "      <th>10688</th>\n",
       "      <td>0</td>\n",
       "      <td>0</td>\n",
       "      <td>0</td>\n",
       "      <td>0</td>\n",
       "      <td>1/8/11</td>\n",
       "      <td>1</td>\n",
       "      <td>4</td>\n",
       "      <td>1</td>\n",
       "      <td>1</td>\n",
       "      <td>2</td>\n",
       "      <td>1</td>\n",
       "      <td>3</td>\n",
       "      <td>3</td>\n",
       "      <td>3</td>\n",
       "      <td>4</td>\n",
       "      <td>1</td>\n",
       "    </tr>\n",
       "  </tbody>\n",
       "</table>\n",
       "<p>10689 rows × 16 columns</p>\n",
       "</div>"
      ],
      "text/plain": [
       "       region  response  coverage  education effective_to_date  month  \\\n",
       "0           0         0         0          1           2/18/11      0   \n",
       "1           3         0         0          1           1/18/11      1   \n",
       "2           1         0         0          0           2/10/11      0   \n",
       "3           2         1         1          1           1/11/11      1   \n",
       "4           2         0         2          0           1/17/11      1   \n",
       "...       ...       ...       ...        ...               ...    ...   \n",
       "10684       0         0         2          0           1/19/11      1   \n",
       "10685       2         0         0          1            1/6/11      1   \n",
       "10686       0         0         1          0            2/6/11      0   \n",
       "10687       3         0         2          1           2/13/11      0   \n",
       "10688       0         0         0          0            1/8/11      1   \n",
       "\n",
       "       employment_status  gender  location_code  marital_status  policy_type  \\\n",
       "0                      1       1              1               1            0   \n",
       "1                      4       0              1               2            1   \n",
       "2                      1       1              1               2            1   \n",
       "3                      1       1              1               2            0   \n",
       "4                      2       0              1               1            1   \n",
       "...                  ...     ...            ...             ...          ...   \n",
       "10684                  4       0              1               1            1   \n",
       "10685                  1       0              2               1            1   \n",
       "10686                  1       0              0               1            0   \n",
       "10687                  1       0              2               0            1   \n",
       "10688                  4       1              1               2            1   \n",
       "\n",
       "       policy  renew_offer_type  sales_channel  vehicle_class  vehicle_size  \n",
       "0           2                 2              0              0             1  \n",
       "1           5                 3              2              0             1  \n",
       "2           5                 2              2              4             1  \n",
       "3           2                 1              1              0             1  \n",
       "4           4                 0              1              0             1  \n",
       "...       ...               ...            ...            ...           ...  \n",
       "10684       3                 2              3              1             1  \n",
       "10685       5                 1              1              0             1  \n",
       "10686       2                 0              3              2             1  \n",
       "10687       3                 0              1              4             1  \n",
       "10688       3                 3              3              4             1  \n",
       "\n",
       "[10689 rows x 16 columns]"
      ]
     },
     "execution_count": 65,
     "metadata": {},
     "output_type": "execute_result"
    }
   ],
   "source": [
    "categoricals_encoding (\"region\") # llama a la funcion\n"
   ]
  },
  {
   "cell_type": "markdown",
   "id": "dc052587",
   "metadata": {},
   "source": [
    "# for the first iteration, we will focus on the numericals data (numericals data frame) as our data source."
   ]
  },
  {
   "cell_type": "code",
   "execution_count": 66,
   "id": "4de387a9",
   "metadata": {},
   "outputs": [],
   "source": [
    "numericals= data_frame_df.select_dtypes(include='int')"
   ]
  },
  {
   "cell_type": "code",
   "execution_count": 67,
   "id": "43a3b9d9",
   "metadata": {},
   "outputs": [
    {
     "data": {
      "image/png": "[encoded data removed]",
      "text/plain": [
       "<Figure size 648x504 with 2 Axes>"
      ]
     },
     "metadata": {},
     "output_type": "display_data"
    }
   ],
   "source": [
    "corr = numericals.corr()\n",
    "mask = np.zeros_like(corr)\n",
    "mask[np.triu_indices_from(mask)] = True\n",
    "with sns.axes_style(\"white\"):\n",
    "    f, ax = plt.subplots(figsize=(9, 7))\n",
    "    ax = sns.heatmap(corr, mask=mask,cmap='coolwarm', vmin=-1,vmax=1,annot=True, square=True)"
   ]
  },
  {
   "cell_type": "code",
   "execution_count": 68,
   "id": "ba45b7b5",
   "metadata": {},
   "outputs": [
    {
     "data": {
      "text/html": [
       "<div>\n",
       "<style scoped>\n",
       "    .dataframe tbody tr th:only-of-type {\n",
       "        vertical-align: middle;\n",
       "    }\n",
       "\n",
       "    .dataframe tbody tr th {\n",
       "        vertical-align: top;\n",
       "    }\n",
       "\n",
       "    .dataframe thead th {\n",
       "        text-align: right;\n",
       "    }\n",
       "</style>\n",
       "<table border=\"1\" class=\"dataframe\">\n",
       "  <thead>\n",
       "    <tr style=\"text-align: right;\">\n",
       "      <th></th>\n",
       "      <th>customer_lifetime_value</th>\n",
       "      <th>income</th>\n",
       "      <th>monthly_premium_auto</th>\n",
       "      <th>months_since_last_claim</th>\n",
       "      <th>months_since_policy_inception</th>\n",
       "      <th>number_of_open_complaints</th>\n",
       "      <th>number_of_policies</th>\n",
       "      <th>total_claim_amount</th>\n",
       "    </tr>\n",
       "  </thead>\n",
       "  <tbody>\n",
       "    <tr>\n",
       "      <th>0</th>\n",
       "      <td>4809</td>\n",
       "      <td>48029</td>\n",
       "      <td>61</td>\n",
       "      <td>7</td>\n",
       "      <td>52</td>\n",
       "      <td>0</td>\n",
       "      <td>9</td>\n",
       "      <td>292</td>\n",
       "    </tr>\n",
       "    <tr>\n",
       "      <th>1</th>\n",
       "      <td>2228</td>\n",
       "      <td>92260</td>\n",
       "      <td>64</td>\n",
       "      <td>3</td>\n",
       "      <td>26</td>\n",
       "      <td>0</td>\n",
       "      <td>1</td>\n",
       "      <td>744</td>\n",
       "    </tr>\n",
       "    <tr>\n",
       "      <th>2</th>\n",
       "      <td>14947</td>\n",
       "      <td>22139</td>\n",
       "      <td>100</td>\n",
       "      <td>34</td>\n",
       "      <td>31</td>\n",
       "      <td>0</td>\n",
       "      <td>2</td>\n",
       "      <td>480</td>\n",
       "    </tr>\n",
       "    <tr>\n",
       "      <th>3</th>\n",
       "      <td>22332</td>\n",
       "      <td>49078</td>\n",
       "      <td>97</td>\n",
       "      <td>10</td>\n",
       "      <td>3</td>\n",
       "      <td>0</td>\n",
       "      <td>2</td>\n",
       "      <td>484</td>\n",
       "    </tr>\n",
       "    <tr>\n",
       "      <th>4</th>\n",
       "      <td>9025</td>\n",
       "      <td>23675</td>\n",
       "      <td>117</td>\n",
       "      <td>33</td>\n",
       "      <td>31</td>\n",
       "      <td>0</td>\n",
       "      <td>7</td>\n",
       "      <td>707</td>\n",
       "    </tr>\n",
       "    <tr>\n",
       "      <th>...</th>\n",
       "      <td>...</td>\n",
       "      <td>...</td>\n",
       "      <td>...</td>\n",
       "      <td>...</td>\n",
       "      <td>...</td>\n",
       "      <td>...</td>\n",
       "      <td>...</td>\n",
       "      <td>...</td>\n",
       "    </tr>\n",
       "    <tr>\n",
       "      <th>10684</th>\n",
       "      <td>15563</td>\n",
       "      <td>61541</td>\n",
       "      <td>253</td>\n",
       "      <td>12</td>\n",
       "      <td>40</td>\n",
       "      <td>0</td>\n",
       "      <td>7</td>\n",
       "      <td>1214</td>\n",
       "    </tr>\n",
       "    <tr>\n",
       "      <th>10685</th>\n",
       "      <td>5259</td>\n",
       "      <td>61146</td>\n",
       "      <td>65</td>\n",
       "      <td>7</td>\n",
       "      <td>68</td>\n",
       "      <td>0</td>\n",
       "      <td>6</td>\n",
       "      <td>273</td>\n",
       "    </tr>\n",
       "    <tr>\n",
       "      <th>10686</th>\n",
       "      <td>23893</td>\n",
       "      <td>39837</td>\n",
       "      <td>201</td>\n",
       "      <td>11</td>\n",
       "      <td>63</td>\n",
       "      <td>0</td>\n",
       "      <td>2</td>\n",
       "      <td>381</td>\n",
       "    </tr>\n",
       "    <tr>\n",
       "      <th>10687</th>\n",
       "      <td>11971</td>\n",
       "      <td>64195</td>\n",
       "      <td>158</td>\n",
       "      <td>0</td>\n",
       "      <td>27</td>\n",
       "      <td>4</td>\n",
       "      <td>6</td>\n",
       "      <td>618</td>\n",
       "    </tr>\n",
       "    <tr>\n",
       "      <th>10688</th>\n",
       "      <td>6857</td>\n",
       "      <td>68942</td>\n",
       "      <td>101</td>\n",
       "      <td>31</td>\n",
       "      <td>1</td>\n",
       "      <td>0</td>\n",
       "      <td>3</td>\n",
       "      <td>1021</td>\n",
       "    </tr>\n",
       "  </tbody>\n",
       "</table>\n",
       "<p>10689 rows × 8 columns</p>\n",
       "</div>"
      ],
      "text/plain": [
       "       customer_lifetime_value  income  monthly_premium_auto  \\\n",
       "0                         4809   48029                    61   \n",
       "1                         2228   92260                    64   \n",
       "2                        14947   22139                   100   \n",
       "3                        22332   49078                    97   \n",
       "4                         9025   23675                   117   \n",
       "...                        ...     ...                   ...   \n",
       "10684                    15563   61541                   253   \n",
       "10685                     5259   61146                    65   \n",
       "10686                    23893   39837                   201   \n",
       "10687                    11971   64195                   158   \n",
       "10688                     6857   68942                   101   \n",
       "\n",
       "       months_since_last_claim  months_since_policy_inception  \\\n",
       "0                            7                             52   \n",
       "1                            3                             26   \n",
       "2                           34                             31   \n",
       "3                           10                              3   \n",
       "4                           33                             31   \n",
       "...                        ...                            ...   \n",
       "10684                       12                             40   \n",
       "10685                        7                             68   \n",
       "10686                       11                             63   \n",
       "10687                        0                             27   \n",
       "10688                       31                              1   \n",
       "\n",
       "       number_of_open_complaints  number_of_policies  total_claim_amount  \n",
       "0                              0                   9                 292  \n",
       "1                              0                   1                 744  \n",
       "2                              0                   2                 480  \n",
       "3                              0                   2                 484  \n",
       "4                              0                   7                 707  \n",
       "...                          ...                 ...                 ...  \n",
       "10684                          0                   7                1214  \n",
       "10685                          0                   6                 273  \n",
       "10686                          0                   2                 381  \n",
       "10687                          4                   6                 618  \n",
       "10688                          0                   3                1021  \n",
       "\n",
       "[10689 rows x 8 columns]"
      ]
     },
     "execution_count": 68,
     "metadata": {},
     "output_type": "execute_result"
    }
   ],
   "source": [
    "numericals"
   ]
  },
  {
   "cell_type": "code",
   "execution_count": 69,
   "id": "6f6089ee",
   "metadata": {},
   "outputs": [
    {
     "data": {
      "image/png": "[encoded data removed]",
      "text/plain": [
       "<Figure size 1008x1440 with 8 Axes>"
      ]
     },
     "metadata": {
      "needs_background": "light"
     },
     "output_type": "display_data"
    }
   ],
   "source": [
    "plt.subplots(figsize=(14, 20))\n",
    "count=1\n",
    "for i in numericals:\n",
    "    plt.subplot(4,2,count)\n",
    "    sns.histplot(numericals[i])\n",
    "    count+=1\n",
    "plt.show()"
   ]
  },
  {
   "cell_type": "code",
   "execution_count": 71,
   "id": "8f734f75",
   "metadata": {},
   "outputs": [
    {
     "data": {
      "text/plain": [
       "93.19019552811301"
      ]
     },
     "execution_count": 71,
     "metadata": {},
     "output_type": "execute_result"
    }
   ],
   "source": [
    "numericals.monthly_premium_auto.mean()"
   ]
  },
  {
   "cell_type": "code",
   "execution_count": 50,
   "id": "f88ee44e",
   "metadata": {},
   "outputs": [
    {
     "data": {
      "text/plain": [
       "<seaborn.axisgrid.FacetGrid at 0x1cca78aa700>"
      ]
     },
     "execution_count": 50,
     "metadata": {},
     "output_type": "execute_result"
    },
    {
     "data": {
      "image/png": "[encoded data removed]",
      "text/plain": [
       "<Figure size 402.375x360 with 1 Axes>"
      ]
     },
     "metadata": {
      "needs_background": "light"
     },
     "output_type": "display_data"
    },
    {
     "data": {
      "image/png": "[encoded data removed]",
      "text/plain": [
       "<Figure size 402.375x360 with 1 Axes>"
      ]
     },
     "metadata": {
      "needs_background": "light"
     },
     "output_type": "display_data"
    },
    {
     "data": {
      "image/png": "[encoded data removed]",
      "text/plain": [
       "<Figure size 402.375x360 with 1 Axes>"
      ]
     },
     "metadata": {
      "needs_background": "light"
     },
     "output_type": "display_data"
    },
    {
     "data": {
      "image/png": "[encoded data removed]",
      "text/plain": [
       "<Figure size 402.375x360 with 1 Axes>"
      ]
     },
     "metadata": {
      "needs_background": "light"
     },
     "output_type": "display_data"
    }
   ],
   "source": [
    "pt = PowerTransformer()\n",
    "\n",
    "med_home_val_transformed=pt.fit_transform(numericals['customer_lifetime_value'].to_numpy().reshape(-1,1))\n",
    "sns.displot(med_home_val_transformed)\n",
    "med_home_val_transformed=pt.fit_transform(numericals['monthly_premium_auto'].to_numpy().reshape(-1,1))\n",
    "sns.displot(med_home_val_transformed)\n",
    "med_home_val_transformed=pt.fit_transform(numericals['number_of_open_complaints'].to_numpy().reshape(-1,1))\n",
    "sns.displot(med_home_val_transformed)\n",
    "\n"
   ]
  },
  {
   "cell_type": "code",
   "execution_count": 18,
   "id": "5e21c6db",
   "metadata": {},
   "outputs": [],
   "source": [
    "X=numericals.drop('total_claim_amount', axis=1)\n",
    "y=numericals.total_claim_amount"
   ]
  },
  {
   "cell_type": "code",
   "execution_count": 19,
   "id": "21297d67",
   "metadata": {},
   "outputs": [],
   "source": [
    "X_train, X_test, y_train, y_test=train_test_split(X, y, test_size=.30,random_state=123) # paso info"
   ]
  },
  {
   "cell_type": "code",
   "execution_count": 20,
   "id": "fe2b9d76",
   "metadata": {},
   "outputs": [],
   "source": [
    "std_scaler=StandardScaler().fit(X_train)   ##. finding the parameters ( mean, variance from the training set )\n",
    "\n",
    "X_train_scaled=std_scaler.transform(X_train)"
   ]
  },
  {
   "cell_type": "code",
   "execution_count": 21,
   "id": "3fab146d",
   "metadata": {},
   "outputs": [
    {
     "data": {
      "text/plain": [
       "(7482, 7)"
      ]
     },
     "execution_count": 21,
     "metadata": {},
     "output_type": "execute_result"
    }
   ],
   "source": [
    "X_train.shape"
   ]
  },
  {
   "cell_type": "code",
   "execution_count": 22,
   "id": "1225d4c8",
   "metadata": {},
   "outputs": [],
   "source": [
    "X_test_scaled=std_scaler.transform(X_test)"
   ]
  },
  {
   "cell_type": "code",
   "execution_count": 23,
   "id": "884d080e",
   "metadata": {},
   "outputs": [
    {
     "name": "stdout",
     "output_type": "stream",
     "text": [
      "[[-0.11021627 -1.27291744 -0.67143823 ...  1.36516733 -0.42500069\n",
      "  -0.40381143]\n",
      " [-0.42794064  0.74729478 -0.72925469 ...  1.68786198 -0.42500069\n",
      "   0.84759702]\n",
      " [-0.5223013   0.26592193  0.48489091 ...  0.50464827 -0.42500069\n",
      "  -0.82094758]\n",
      " ...\n",
      " [-0.81132612 -1.17224873 -0.90270406 ... -1.39566466 -0.42500069\n",
      "  -0.82094758]\n",
      " [ 2.25575772  0.98537142 -0.78707115 ... -1.61079442 -0.42500069\n",
      "  -0.40381143]\n",
      " [ 1.18923585  0.68583346 -0.55580532 ...  0.21780858  1.78399907\n",
      "  -0.40381143]]\n",
      "--------\n",
      "[[-0.40967729  1.58428551 -0.61362178 ...  1.54444214 -0.42500069\n",
      "   2.51614162]\n",
      " [-0.7597249  -0.93947257 -0.64253    ...  0.755633    0.67949919\n",
      "  -0.82094758]\n",
      " [ 0.57248529 -1.23371005 -0.90270406 ...  0.39708339 -0.42500069\n",
      "  -0.40381143]\n",
      " ...\n",
      " [-0.79857077 -1.05867274 -0.58471355 ... -1.18053489 -0.42500069\n",
      "  -0.82094758]\n",
      " [-0.42547654 -0.97370317 -0.81597938 ... -1.61079442  0.67949919\n",
      "   0.43046087]\n",
      " [-0.49881985 -0.95695203  0.71615674 ... -1.00126009 -0.42500069\n",
      "  -0.82094758]]\n"
     ]
    }
   ],
   "source": [
    "print(X_train_scaled)\n",
    "print(\"--------\")\n",
    "print(X_test_scaled)"
   ]
  },
  {
   "cell_type": "code",
   "execution_count": 24,
   "id": "637ceb60",
   "metadata": {},
   "outputs": [
    {
     "name": "stdout",
     "output_type": "stream",
     "text": [
      "                            OLS Regression Results                            \n",
      "==============================================================================\n",
      "Dep. Variable:     total_claim_amount   R-squared:                       0.410\n",
      "Model:                            OLS   Adj. R-squared:                  0.410\n",
      "Method:                 Least Squares   F-statistic:                     742.9\n",
      "Date:                Thu, 10 Nov 2022   Prob (F-statistic):               0.00\n",
      "Time:                        15:44:15   Log-Likelihood:                -51168.\n",
      "No. Observations:                7482   AIC:                         1.024e+05\n",
      "Df Residuals:                    7474   BIC:                         1.024e+05\n",
      "Df Model:                           7                                         \n",
      "Covariance Type:            nonrobust                                         \n",
      "==============================================================================\n",
      "                 coef    std err          t      P>|t|      [0.025      0.975]\n",
      "------------------------------------------------------------------------------\n",
      "const        433.0597      2.612    165.770      0.000     427.939     438.181\n",
      "x1            -6.5986      2.846     -2.319      0.020     -12.177      -1.020\n",
      "x2           -33.1813      2.616    -12.684      0.000     -38.309     -28.053\n",
      "x3           187.8019      2.844     66.036      0.000     182.227     193.377\n",
      "x4             1.9060      2.617      0.728      0.466      -3.224       7.036\n",
      "x5            -0.9115      2.616     -0.348      0.728      -6.040       4.217\n",
      "x6             1.7171      2.615      0.657      0.511      -3.409       6.843\n",
      "x7            -2.3202      2.614     -0.887      0.375      -7.445       2.805\n",
      "==============================================================================\n",
      "Omnibus:                      924.802   Durbin-Watson:                   2.025\n",
      "Prob(Omnibus):                  0.000   Jarque-Bera (JB):             4604.359\n",
      "Skew:                           0.499   Prob(JB):                         0.00\n",
      "Kurtosis:                       6.711   Cond. No.                         1.52\n",
      "==============================================================================\n",
      "\n",
      "Notes:\n",
      "[1] Standard Errors assume that the covariance matrix of the errors is correctly specified.\n"
     ]
    }
   ],
   "source": [
    "X_train_const_scaled = sm.add_constant(X_train_scaled) # adding a constant\n",
    "\n",
    "model = sm.OLS(y_train, X_train_const_scaled).fit()\n",
    "predictions_train = model.predict(X_train_const_scaled) \n",
    "\n",
    "X_test_const_scaled = sm.add_constant(X_test_scaled) # adding a constant\n",
    "predictions_test = model.predict(X_test_const_scaled) \n",
    "print_model = model.summary()\n",
    "print(print_model)"
   ]
  },
  {
   "cell_type": "code",
   "execution_count": 25,
   "id": "06ade6af",
   "metadata": {},
   "outputs": [],
   "source": [
    "# x3 high correlation"
   ]
  },
  {
   "cell_type": "code",
   "execution_count": 26,
   "id": "9170c67f",
   "metadata": {},
   "outputs": [
    {
     "data": {
      "text/plain": [
       "array([260.52304948, 353.76752657, 297.68091412, ..., 367.57334203,\n",
       "       317.67903438, 608.06079373])"
      ]
     },
     "execution_count": 26,
     "metadata": {},
     "output_type": "execute_result"
    }
   ],
   "source": [
    "predictions_test"
   ]
  },
  {
   "cell_type": "code",
   "execution_count": 27,
   "id": "407e8926",
   "metadata": {},
   "outputs": [
    {
     "name": "stdout",
     "output_type": "stream",
     "text": [
      "0.40976457437034053\n"
     ]
    }
   ],
   "source": [
    "#display adjusted R-squared\n",
    "print(model.rsquared_adj)\n"
   ]
  },
  {
   "cell_type": "code",
   "execution_count": 28,
   "id": "605df322",
   "metadata": {},
   "outputs": [
    {
     "data": {
      "text/plain": [
       "LinearRegression()"
      ]
     },
     "execution_count": 28,
     "metadata": {},
     "output_type": "execute_result"
    }
   ],
   "source": [
    "model=LinearRegression()    # model\n",
    "model.fit(X_train_scaled, y_train)   # model train"
   ]
  },
  {
   "cell_type": "code",
   "execution_count": 29,
   "id": "0f790cb1",
   "metadata": {},
   "outputs": [
    {
     "data": {
      "text/html": [
       "<div>\n",
       "<style scoped>\n",
       "    .dataframe tbody tr th:only-of-type {\n",
       "        vertical-align: middle;\n",
       "    }\n",
       "\n",
       "    .dataframe tbody tr th {\n",
       "        vertical-align: top;\n",
       "    }\n",
       "\n",
       "    .dataframe thead th {\n",
       "        text-align: right;\n",
       "    }\n",
       "</style>\n",
       "<table border=\"1\" class=\"dataframe\">\n",
       "  <thead>\n",
       "    <tr style=\"text-align: right;\">\n",
       "      <th></th>\n",
       "      <th>customer_lifetime_value</th>\n",
       "      <th>income</th>\n",
       "      <th>monthly_premium_auto</th>\n",
       "      <th>months_since_last_claim</th>\n",
       "      <th>months_since_policy_inception</th>\n",
       "      <th>number_of_open_complaints</th>\n",
       "      <th>number_of_policies</th>\n",
       "    </tr>\n",
       "  </thead>\n",
       "  <tbody>\n",
       "    <tr>\n",
       "      <th>6608</th>\n",
       "      <td>7271</td>\n",
       "      <td>20545</td>\n",
       "      <td>70</td>\n",
       "      <td>23</td>\n",
       "      <td>86</td>\n",
       "      <td>0</td>\n",
       "      <td>2</td>\n",
       "    </tr>\n",
       "    <tr>\n",
       "      <th>5697</th>\n",
       "      <td>5079</td>\n",
       "      <td>70474</td>\n",
       "      <td>68</td>\n",
       "      <td>6</td>\n",
       "      <td>95</td>\n",
       "      <td>0</td>\n",
       "      <td>5</td>\n",
       "    </tr>\n",
       "    <tr>\n",
       "      <th>10524</th>\n",
       "      <td>4428</td>\n",
       "      <td>58577</td>\n",
       "      <td>110</td>\n",
       "      <td>6</td>\n",
       "      <td>62</td>\n",
       "      <td>0</td>\n",
       "      <td>1</td>\n",
       "    </tr>\n",
       "    <tr>\n",
       "      <th>397</th>\n",
       "      <td>22332</td>\n",
       "      <td>49078</td>\n",
       "      <td>97</td>\n",
       "      <td>10</td>\n",
       "      <td>3</td>\n",
       "      <td>0</td>\n",
       "      <td>2</td>\n",
       "    </tr>\n",
       "    <tr>\n",
       "      <th>6324</th>\n",
       "      <td>2430</td>\n",
       "      <td>26182</td>\n",
       "      <td>70</td>\n",
       "      <td>29</td>\n",
       "      <td>30</td>\n",
       "      <td>0</td>\n",
       "      <td>1</td>\n",
       "    </tr>\n",
       "    <tr>\n",
       "      <th>...</th>\n",
       "      <td>...</td>\n",
       "      <td>...</td>\n",
       "      <td>...</td>\n",
       "      <td>...</td>\n",
       "      <td>...</td>\n",
       "      <td>...</td>\n",
       "      <td>...</td>\n",
       "    </tr>\n",
       "    <tr>\n",
       "      <th>9785</th>\n",
       "      <td>3086</td>\n",
       "      <td>73938</td>\n",
       "      <td>76</td>\n",
       "      <td>34</td>\n",
       "      <td>48</td>\n",
       "      <td>0</td>\n",
       "      <td>1</td>\n",
       "    </tr>\n",
       "    <tr>\n",
       "      <th>7763</th>\n",
       "      <td>5658</td>\n",
       "      <td>78834</td>\n",
       "      <td>72</td>\n",
       "      <td>14</td>\n",
       "      <td>20</td>\n",
       "      <td>2</td>\n",
       "      <td>8</td>\n",
       "    </tr>\n",
       "    <tr>\n",
       "      <th>5218</th>\n",
       "      <td>2434</td>\n",
       "      <td>23033</td>\n",
       "      <td>62</td>\n",
       "      <td>5</td>\n",
       "      <td>9</td>\n",
       "      <td>0</td>\n",
       "      <td>1</td>\n",
       "    </tr>\n",
       "    <tr>\n",
       "      <th>1346</th>\n",
       "      <td>23594</td>\n",
       "      <td>76358</td>\n",
       "      <td>66</td>\n",
       "      <td>25</td>\n",
       "      <td>3</td>\n",
       "      <td>0</td>\n",
       "      <td>2</td>\n",
       "    </tr>\n",
       "    <tr>\n",
       "      <th>3582</th>\n",
       "      <td>16236</td>\n",
       "      <td>68955</td>\n",
       "      <td>74</td>\n",
       "      <td>24</td>\n",
       "      <td>54</td>\n",
       "      <td>2</td>\n",
       "      <td>2</td>\n",
       "    </tr>\n",
       "  </tbody>\n",
       "</table>\n",
       "<p>7482 rows × 7 columns</p>\n",
       "</div>"
      ],
      "text/plain": [
       "       customer_lifetime_value  income  monthly_premium_auto  \\\n",
       "6608                      7271   20545                    70   \n",
       "5697                      5079   70474                    68   \n",
       "10524                     4428   58577                   110   \n",
       "397                      22332   49078                    97   \n",
       "6324                      2430   26182                    70   \n",
       "...                        ...     ...                   ...   \n",
       "9785                      3086   73938                    76   \n",
       "7763                      5658   78834                    72   \n",
       "5218                      2434   23033                    62   \n",
       "1346                     23594   76358                    66   \n",
       "3582                     16236   68955                    74   \n",
       "\n",
       "       months_since_last_claim  months_since_policy_inception  \\\n",
       "6608                        23                             86   \n",
       "5697                         6                             95   \n",
       "10524                        6                             62   \n",
       "397                         10                              3   \n",
       "6324                        29                             30   \n",
       "...                        ...                            ...   \n",
       "9785                        34                             48   \n",
       "7763                        14                             20   \n",
       "5218                         5                              9   \n",
       "1346                        25                              3   \n",
       "3582                        24                             54   \n",
       "\n",
       "       number_of_open_complaints  number_of_policies  \n",
       "6608                           0                   2  \n",
       "5697                           0                   5  \n",
       "10524                          0                   1  \n",
       "397                            0                   2  \n",
       "6324                           0                   1  \n",
       "...                          ...                 ...  \n",
       "9785                           0                   1  \n",
       "7763                           2                   8  \n",
       "5218                           0                   1  \n",
       "1346                           0                   2  \n",
       "3582                           2                   2  \n",
       "\n",
       "[7482 rows x 7 columns]"
      ]
     },
     "execution_count": 29,
     "metadata": {},
     "output_type": "execute_result"
    }
   ],
   "source": [
    "X_train"
   ]
  },
  {
   "cell_type": "code",
   "execution_count": 30,
   "id": "00789b82",
   "metadata": {},
   "outputs": [
    {
     "data": {
      "text/plain": [
       "array([ -6.5986299 , -33.18126217, 187.80190938,   1.90598135,\n",
       "        -0.91148552,   1.71705592,  -2.32015745])"
      ]
     },
     "execution_count": 30,
     "metadata": {},
     "output_type": "execute_result"
    }
   ],
   "source": [
    "model.coef_"
   ]
  },
  {
   "cell_type": "code",
   "execution_count": 31,
   "id": "8c9782fc",
   "metadata": {},
   "outputs": [
    {
     "data": {
      "text/plain": [
       "433.0597433841219"
      ]
     },
     "execution_count": 31,
     "metadata": {},
     "output_type": "execute_result"
    }
   ],
   "source": [
    "model.intercept_\n"
   ]
  },
  {
   "cell_type": "code",
   "execution_count": 32,
   "id": "e10b43eb",
   "metadata": {},
   "outputs": [],
   "source": [
    "y_pred=model.predict(X_test_scaled)   # model prediction\n",
    "\n",
    "y_pred_train=model.predict(X_train_scaled)"
   ]
  },
  {
   "cell_type": "code",
   "execution_count": 33,
   "id": "92188780",
   "metadata": {},
   "outputs": [
    {
     "data": {
      "text/plain": [
       "array([260.52304948, 353.76752657, 297.68091412, ..., 367.57334203,\n",
       "       317.67903438, 608.06079373])"
      ]
     },
     "execution_count": 33,
     "metadata": {},
     "output_type": "execute_result"
    }
   ],
   "source": [
    "y_pred"
   ]
  },
  {
   "cell_type": "code",
   "execution_count": 34,
   "id": "3ed816d7",
   "metadata": {},
   "outputs": [
    {
     "data": {
      "text/plain": [
       "4665     345\n",
       "4072     345\n",
       "4549     257\n",
       "4211     445\n",
       "3081     523\n",
       "        ... \n",
       "3488     404\n",
       "1667     554\n",
       "1516     350\n",
       "10215     27\n",
       "2931     320\n",
       "Name: total_claim_amount, Length: 3207, dtype: int64"
      ]
     },
     "execution_count": 34,
     "metadata": {},
     "output_type": "execute_result"
    }
   ],
   "source": [
    "y_test"
   ]
  },
  {
   "cell_type": "code",
   "execution_count": 35,
   "id": "e8826a75",
   "metadata": {},
   "outputs": [],
   "source": [
    " #np.array(np.array(numericals).reshape(-1,7)).shape"
   ]
  },
  {
   "cell_type": "code",
   "execution_count": 36,
   "id": "43e36a47",
   "metadata": {},
   "outputs": [
    {
     "name": "stderr",
     "output_type": "stream",
     "text": [
      "C:\\Users\\Stephan\\anaconda3\\lib\\site-packages\\sklearn\\base.py:450: UserWarning: X does not have valid feature names, but StandardScaler was fitted with feature names\n",
      "  warnings.warn(\n"
     ]
    }
   ],
   "source": [
    "## new record \n",
    "new_data=[5079,70474,68,6,95,0,5] # cpy paste data from x train \n",
    "new_data_scaled=std_scaler.transform(np.array(new_data).reshape(-1,7))"
   ]
  },
  {
   "cell_type": "code",
   "execution_count": 37,
   "id": "288bd735",
   "metadata": {},
   "outputs": [
    {
     "data": {
      "text/plain": [
       "array([268.17631433])"
      ]
     },
     "execution_count": 37,
     "metadata": {},
     "output_type": "execute_result"
    }
   ],
   "source": [
    "model.predict(new_data_scaled)"
   ]
  },
  {
   "cell_type": "code",
   "execution_count": 38,
   "id": "458e9c63",
   "metadata": {},
   "outputs": [],
   "source": [
    "result=pd.DataFrame({\"y_test\":y_test,\"y_pred\":y_pred})"
   ]
  },
  {
   "cell_type": "code",
   "execution_count": 39,
   "id": "856fd6e3",
   "metadata": {},
   "outputs": [
    {
     "data": {
      "text/plain": [
       "[<matplotlib.lines.Line2D at 0x1cca76a3130>]"
      ]
     },
     "execution_count": 39,
     "metadata": {},
     "output_type": "execute_result"
    },
    {
     "data": {
      "image/png": "[encoded data removed]",
      "text/plain": [
       "<Figure size 1008x288 with 3 Axes>"
      ]
     },
     "metadata": {
      "needs_background": "light"
     },
     "output_type": "display_data"
    }
   ],
   "source": [
    "fig, ax = plt.subplots(1,3,figsize=(14,4))\n",
    "ax[0].plot(y_pred, y_test, 'o')\n",
    "ax[0].set_xlabel(\"y_test\")\n",
    "ax[0].set_ylabel(\"y_pred\")\n",
    "ax[0].set_title(\"Test Set -Predicted vs real\")\n",
    "\n",
    "# Get a histogram of the residuals ie: y - y_pred.  Homoscdasticity\n",
    "# It resembles a normal distribution?\n",
    "ax[1].hist(y_test - y_pred)\n",
    "ax[1].set_xlabel(\"Test y-y_pred\")\n",
    "ax[1].set_title(\"Test Set Residual histogram\")\n",
    "\n",
    "ax[2].plot(y_pred,y_test - y_pred,\"o\")\n",
    "ax[2].set_xlabel(\"predited\")\n",
    "ax[2].set_ylabel(\"residuals\")\n",
    "ax[2].set_title(\"Residuals by Predicted\")\n",
    "ax[2].plot(y_pred,np.zeros(len(y_pred)),linestyle='dashed')"
   ]
  },
  {
   "cell_type": "code",
   "execution_count": 40,
   "id": "98356c4c",
   "metadata": {},
   "outputs": [
    {
     "data": {
      "text/plain": [
       "<AxesSubplot:xlabel='y_pred', ylabel='y_test'>"
      ]
     },
     "execution_count": 40,
     "metadata": {},
     "output_type": "execute_result"
    },
    {
     "data": {
      "image/png": "[encoded data removed]",
      "text/plain": [
       "<Figure size 432x288 with 1 Axes>"
      ]
     },
     "metadata": {
      "needs_background": "light"
     },
     "output_type": "display_data"
    }
   ],
   "source": [
    "sns.regplot(x='y_pred',y='y_test', data=result, scatter_kws={\"color\": \"red\"}, line_kws={\"color\": \"black\"})"
   ]
  },
  {
   "cell_type": "markdown",
   "id": "123516f8",
   "metadata": {},
   "source": [
    "#### Model Validation\n",
    "- Model Evaluation:\n",
    "  - MSE.\n",
    "  - RMSE.\n",
    "  - MAE.\n",
    "  - R2.\n",
    "  - Adjusted R2.\n",
    "- Feature Importance."
   ]
  },
  {
   "cell_type": "code",
   "execution_count": 41,
   "id": "2d996e03",
   "metadata": {},
   "outputs": [
    {
     "name": "stdout",
     "output_type": "stream",
     "text": [
      "49433.00247202497\n",
      "152.0299230278208\n"
     ]
    }
   ],
   "source": [
    "print(mse(y_test,y_pred)) #mse\n",
    "print(mae(y_test,y_pred)) #mae"
   ]
  },
  {
   "cell_type": "code",
   "execution_count": 42,
   "id": "04e084e4",
   "metadata": {},
   "outputs": [
    {
     "data": {
      "text/plain": [
       "51007.93558508785"
      ]
     },
     "execution_count": 42,
     "metadata": {},
     "output_type": "execute_result"
    }
   ],
   "source": [
    "mse(y_train,y_pred_train) "
   ]
  },
  {
   "cell_type": "code",
   "execution_count": 43,
   "id": "da71a6de",
   "metadata": {},
   "outputs": [
    {
     "data": {
      "text/plain": [
       "0.40738490678489503"
      ]
     },
     "execution_count": 43,
     "metadata": {},
     "output_type": "execute_result"
    }
   ],
   "source": [
    "R2=r2_score(y_test,y_pred) #R2\n",
    "R2"
   ]
  },
  {
   "cell_type": "code",
   "execution_count": 49,
   "id": "3135bf5c",
   "metadata": {},
   "outputs": [
    {
     "data": {
      "text/plain": [
       "0.40608815603387727"
      ]
     },
     "execution_count": 49,
     "metadata": {},
     "output_type": "execute_result"
    }
   ],
   "source": [
    "# - Adjusted R2.\n",
    "#Feature Importance.\n",
    "\n",
    "Adj_R2= 1 - (1-R2)*(len(y_test)-1)/(len(y_test)-X_test.shape[1]-1)\n",
    "Adj_R2"
   ]
  },
  {
   "cell_type": "code",
   "execution_count": 48,
   "id": "fd22e826",
   "metadata": {},
   "outputs": [
    {
     "data": {
      "text/plain": [
       "225.84936481001634"
      ]
     },
     "execution_count": 48,
     "metadata": {},
     "output_type": "execute_result"
    }
   ],
   "source": [
    "from sklearn.metrics import mean_squared_error\n",
    "\n",
    "rms = mean_squared_error(y_train, y_pred_train, squared=False)\n",
    "rms"
   ]
  },
  {
   "cell_type": "code",
   "execution_count": null,
   "id": "a396d930",
   "metadata": {},
   "outputs": [],
   "source": []
  }
 ],
 "metadata": {
  "kernelspec": {
   "display_name": "Python 3 (ipykernel)",
   "language": "python",
   "name": "python3"
  },
  "language_info": {
   "codemirror_mode": {
    "name": "ipython",
    "version": 3
   },
   "file_extension": ".py",
   "mimetype": "text/x-python",
   "name": "python",
   "nbconvert_exporter": "python",
   "pygments_lexer": "ipython3",
   "version": "3.9.12"
  }
 },
 "nbformat": 4,
 "nbformat_minor": 5
}
